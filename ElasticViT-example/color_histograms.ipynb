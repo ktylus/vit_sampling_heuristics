{
 "cells": [
  {
   "cell_type": "code",
   "execution_count": 217,
   "metadata": {
    "collapsed": true
   },
   "outputs": [],
   "source": [
    "import torch\n",
    "from torchvision import datasets, transforms\n",
    "\n",
    "from patch_sampler import GridSamplerV2"
   ]
  },
  {
   "cell_type": "code",
   "execution_count": 218,
   "outputs": [],
   "source": [
    "transform = transforms.Compose([\n",
    "    transforms.Resize((224, 224)),\n",
    "    transforms.ToTensor()\n",
    "])\n",
    "\n",
    "flowers = datasets.Flowers102(\"../data/flowers\", transform=transform, download=True)"
   ],
   "metadata": {
    "collapsed": false
   }
  },
  {
   "cell_type": "code",
   "execution_count": 219,
   "outputs": [
    {
     "data": {
      "text/plain": "tensor([[[0.1412, 0.1373, 0.1373,  ..., 0.0667, 0.0706, 0.0784],\n         [0.1490, 0.1451, 0.1412,  ..., 0.0863, 0.0824, 0.0784],\n         [0.1529, 0.1451, 0.1333,  ..., 0.0745, 0.0784, 0.0784],\n         ...,\n         [0.1647, 0.1608, 0.1451,  ..., 0.2392, 0.2510, 0.2667],\n         [0.1765, 0.1647, 0.1373,  ..., 0.2235, 0.2549, 0.2706],\n         [0.2039, 0.1922, 0.1608,  ..., 0.1961, 0.2314, 0.2510]],\n\n        [[0.2235, 0.2157, 0.2039,  ..., 0.1098, 0.1176, 0.1255],\n         [0.2275, 0.2157, 0.2039,  ..., 0.1255, 0.1255, 0.1255],\n         [0.2235, 0.2118, 0.1922,  ..., 0.1216, 0.1255, 0.1255],\n         ...,\n         [0.1451, 0.1451, 0.1333,  ..., 0.3569, 0.3725, 0.3843],\n         [0.1529, 0.1490, 0.1255,  ..., 0.3412, 0.3725, 0.3922],\n         [0.1804, 0.1765, 0.1490,  ..., 0.3137, 0.3490, 0.3725]],\n\n        [[0.0980, 0.0941, 0.0941,  ..., 0.0627, 0.0392, 0.0392],\n         [0.1020, 0.0941, 0.0902,  ..., 0.0706, 0.0471, 0.0392],\n         [0.0863, 0.0824, 0.0745,  ..., 0.0471, 0.0431, 0.0392],\n         ...,\n         [0.0745, 0.0745, 0.0667,  ..., 0.1451, 0.1608, 0.1725],\n         [0.0902, 0.0824, 0.0667,  ..., 0.1294, 0.1569, 0.1686],\n         [0.1255, 0.1176, 0.0980,  ..., 0.1020, 0.1255, 0.1451]]])"
     },
     "execution_count": 219,
     "metadata": {},
     "output_type": "execute_result"
    }
   ],
   "source": [
    "img = flowers[4][0]\n",
    "img"
   ],
   "metadata": {
    "collapsed": false
   }
  },
  {
   "cell_type": "code",
   "execution_count": 225,
   "outputs": [],
   "source": [
    "grid_sampler = GridSamplerV2()\n",
    "patches, coords = grid_sampler(img)"
   ],
   "metadata": {
    "collapsed": false
   }
  },
  {
   "cell_type": "code",
   "execution_count": 226,
   "outputs": [
    {
     "data": {
      "text/plain": "torch.Size([196, 3, 16, 16])"
     },
     "execution_count": 226,
     "metadata": {},
     "output_type": "execute_result"
    }
   ],
   "source": [
    "patches.shape"
   ],
   "metadata": {
    "collapsed": false
   }
  },
  {
   "cell_type": "code",
   "execution_count": 222,
   "outputs": [
    {
     "data": {
      "text/plain": "tensor([  9.,  68., 144.,  12.,  10.,   9.,   4.,   1.,   1.,   1.,   1.,   1.,\n          1.,   1.,   1.,   1.])"
     },
     "execution_count": 222,
     "metadata": {},
     "output_type": "execute_result"
    }
   ],
   "source": [
    "hist_a0 = torch.histogram(patches[0][0], bins=16, range=[0, 1])[0]\n",
    "hist_a0[hist_a0 == 0] = 1\n",
    "hist_a0"
   ],
   "metadata": {
    "collapsed": false
   }
  },
  {
   "cell_type": "code",
   "execution_count": 223,
   "outputs": [
    {
     "data": {
      "text/plain": "tensor([  8.,  63., 149.,  12.,  11.,   8.,   5.,   0.,   0.,   0.,   0.,   0.,\n          0.,   0.,   0.,   0.])"
     },
     "execution_count": 223,
     "metadata": {},
     "output_type": "execute_result"
    }
   ],
   "source": [
    "def batch_histogram(data_tensor, num_classes=-1):\n",
    "    \"\"\"\n",
    "    Computes histograms, even if in batches (as opposed to torch.histc and torch.histogram).\n",
    "    Arguments:\n",
    "        data_tensor: a D1 x ... x D_n torch.LongTensor\n",
    "        num_classes (optional): the number of classes present in data.\n",
    "                                If not provided, tensor.max() + 1 is used (an error is thrown if tensor is empty).\n",
    "    Returns:\n",
    "        A D1 x ... x D_{n-1} x num_classes 'result' torch.LongTensor,\n",
    "        containing histograms of the last dimension D_n of tensor,\n",
    "        that is, result[d_1,...,d_{n-1}, c] = number of times c appears in tensor[d_1,...,d_{n-1}].\n",
    "    \"\"\"\n",
    "    maxd = data_tensor.max()\n",
    "    nc = (maxd+1) if num_classes <= 0 else num_classes\n",
    "    hist = torch.zeros((*data_tensor.shape[:-1], nc), dtype=data_tensor.dtype, device=data_tensor.device)\n",
    "    ones = torch.tensor(1, dtype=hist.dtype, device=hist.device).expand(data_tensor.shape)\n",
    "    hist.scatter_add_(-1, ((data_tensor * nc) // (maxd+1)).long(), ones)\n",
    "    return hist\n",
    "\n",
    "hist = batch_histogram(patches.flatten(-2) * 255, 16)[0][0]\n",
    "hist"
   ],
   "metadata": {
    "collapsed": false
   }
  },
  {
   "cell_type": "code",
   "execution_count": 310,
   "outputs": [],
   "source": [
    "def find_top_k_entropy_patches(patches, k):\n",
    "    patch_entropy = calculate_patches_entropy(patches)\n",
    "    sorted_entropy, patch_indices = torch.sort(patch_entropy, descending=True, dim=-1)\n",
    "    return patch_indices[:k]\n",
    "\n",
    "def calculate_patches_entropy(patches):\n",
    "    histograms = batch_histogram(patches.flatten(-2) * 255, 16)\n",
    "    histograms = torch.where(histograms == 0, 1, histograms)\n",
    "    histograms = torch.nn.functional.normalize(histograms, p=1, dim=-1)\n",
    "    patches_entropy = -torch.sum((histograms * torch.log2(histograms)), dim=-1)\n",
    "    patches_entropy = torch.sum(patches_entropy, dim=-1)\n",
    "    return patches_entropy"
   ],
   "metadata": {
    "collapsed": false
   }
  },
  {
   "cell_type": "code",
   "execution_count": 305,
   "outputs": [],
   "source": [
    "def divide_patch_coords_in_four(coords):\n",
    "    patch_sizes = torch.cat((\n",
    "        (coords[:, 2] - coords[:, 0]).unsqueeze(1),\n",
    "        (coords[:, 3] - coords[:, 1]).unsqueeze(1)\n",
    "    ), dim=-1)\n",
    "\n",
    "    upper_left = torch.cat((\n",
    "        coords[:, :2],\n",
    "        coords[:, 2:] - patch_sizes / 2\n",
    "    ), dim=-1)\n",
    "    upper_right = torch.cat((\n",
    "        coords[:, 0].unsqueeze(1),\n",
    "        (coords[:, 1] + patch_sizes[:, 1] / 2).unsqueeze(1),\n",
    "        (coords[:, 2] - patch_sizes[:, 0] / 2).unsqueeze(1),\n",
    "        coords[:, 3].unsqueeze(1)\n",
    "    ), dim=-1)\n",
    "    lower_left = torch.cat((\n",
    "        (coords[:, 0] + patch_sizes[:, 0] / 2).unsqueeze(1),\n",
    "        coords[:, 1].unsqueeze(1),\n",
    "        coords[:, 2].unsqueeze(1),\n",
    "        (coords[:, 3] - patch_sizes[:, 1] / 2).unsqueeze(1)\n",
    "    ), dim=-1)\n",
    "    lower_right = torch.cat((\n",
    "        coords[:, :2] + patch_sizes / 2,\n",
    "        coords[:, 2:]\n",
    "    ), dim=-1)\n",
    "\n",
    "    coords_after_division = torch.cat((\n",
    "        upper_left, upper_right,\n",
    "        lower_left, lower_right\n",
    "    ), dim=0)\n",
    "    return coords_after_division\n",
    "\n",
    "\n",
    "def divide_patches_pixels_in_four(patches):\n",
    "    patch_size = patches.shape[-1]\n",
    "    upper_left = patches[:, :, :(patch_size // 2), :(patch_size // 2)]\n",
    "    upper_right = patches[:, :, :(patch_size // 2), (patch_size // 2):]\n",
    "    lower_left = patches[:, :, (patch_size // 2):, :(patch_size // 2)]\n",
    "    lower_right = patches[:, :, (patch_size // 2):, (patch_size // 2):]\n",
    "\n",
    "    resize = transforms.Resize((patch_size, patch_size), antialias=True)\n",
    "    upper_left = resize.forward(upper_left)\n",
    "    upper_right = resize.forward(upper_right)\n",
    "    lower_left = resize.forward(lower_left)\n",
    "    lower_right = resize.forward(lower_right)\n",
    "\n",
    "    patches_after_division = torch.cat((\n",
    "        upper_left, upper_right,\n",
    "        lower_left, lower_right\n",
    "    ), dim=0)\n",
    "    return patches_after_division\n",
    "\n",
    "#TODO make it so that it accepts patch indices and integrates the resulting patches with the rest\n",
    "#TODO remember about batches!\n",
    "def divide_patches_in_four(patches, coords):\n",
    "    coords_after_division = divide_patch_coords_in_four(coords)\n",
    "    patches_after_division = divide_patches_pixels_in_four(patches)\n",
    "    return patches_after_division, coords_after_division"
   ],
   "metadata": {
    "collapsed": false
   }
  },
  {
   "cell_type": "code",
   "execution_count": 307,
   "outputs": [
    {
     "data": {
      "text/plain": "(tensor([[[[0.1412, 0.1402, 0.1382,  ..., 0.1228, 0.1182, 0.1159],\n           [0.1432, 0.1422, 0.1402,  ..., 0.1217, 0.1170, 0.1146],\n           [0.1472, 0.1462, 0.1440,  ..., 0.1195, 0.1144, 0.1119],\n           ...,\n           [0.1438, 0.1522, 0.1691,  ..., 0.1658, 0.1612, 0.1589],\n           [0.1372, 0.1466, 0.1654,  ..., 0.1698, 0.1657, 0.1636],\n           [0.1339, 0.1438, 0.1636,  ..., 0.1718, 0.1679, 0.1660]],\n \n          [[0.2235, 0.2214, 0.2171,  ..., 0.1566, 0.1542, 0.1529],\n           [0.2244, 0.2221, 0.2173,  ..., 0.1538, 0.1513, 0.1500],\n           [0.2263, 0.2234, 0.2176,  ..., 0.1482, 0.1455, 0.1441],\n           ...,\n           [0.2272, 0.2340, 0.2476,  ..., 0.1774, 0.1660, 0.1604],\n           [0.2248, 0.2322, 0.2472,  ..., 0.1844, 0.1723, 0.1662],\n           [0.2235, 0.2313, 0.2470,  ..., 0.1879, 0.1754, 0.1692]],\n \n          [[0.0980, 0.0971, 0.0951,  ..., 0.0646, 0.0634, 0.0627],\n           [0.0988, 0.0976, 0.0951,  ..., 0.0640, 0.0623, 0.0614],\n           [0.1003, 0.0985, 0.0951,  ..., 0.0629, 0.0602, 0.0588],\n           ...,\n           [0.0679, 0.0763, 0.0932,  ..., 0.1084, 0.1087, 0.1089],\n           [0.0633, 0.0727, 0.0916,  ..., 0.1143, 0.1146, 0.1147],\n           [0.0610, 0.0710, 0.0908,  ..., 0.1172, 0.1175, 0.1176]]],\n \n \n         [[[0.2714, 0.2693, 0.2650,  ..., 0.1792, 0.1736, 0.1708],\n           [0.2861, 0.2829, 0.2766,  ..., 0.1768, 0.1708, 0.1678],\n           [0.3153, 0.3102, 0.3000,  ..., 0.1720, 0.1653, 0.1619],\n           ...,\n           [0.3081, 0.3254, 0.3600,  ..., 0.3463, 0.3108, 0.2930],\n           [0.2866, 0.3048, 0.3412,  ..., 0.3701, 0.3351, 0.3176],\n           [0.2758, 0.2944, 0.3318,  ..., 0.3820, 0.3473, 0.3299]],\n \n          [[0.2597, 0.2565, 0.2503,  ..., 0.1733, 0.1747, 0.1754],\n           [0.2743, 0.2700, 0.2613,  ..., 0.1704, 0.1718, 0.1725],\n           [0.3036, 0.2968, 0.2833,  ..., 0.1646, 0.1660, 0.1666],\n           ...,\n           [0.2946, 0.3113, 0.3447,  ..., 0.3218, 0.2951, 0.2817],\n           [0.2718, 0.2891, 0.3237,  ..., 0.3464, 0.3189, 0.3051],\n           [0.2604, 0.2780, 0.3132,  ..., 0.3587, 0.3308, 0.3168]],\n \n          [[0.2132, 0.2099, 0.2034,  ..., 0.1066, 0.0961, 0.0909],\n           [0.2278, 0.2236, 0.2151,  ..., 0.1037, 0.0932, 0.0880],\n           [0.2571, 0.2509, 0.2384,  ..., 0.0979, 0.0874, 0.0822],\n           ...,\n           [0.2520, 0.2673, 0.2979,  ..., 0.2538, 0.2241, 0.2093],\n           [0.2326, 0.2488, 0.2812,  ..., 0.2824, 0.2526, 0.2377],\n           [0.2230, 0.2396, 0.2728,  ..., 0.2967, 0.2668, 0.2519]]],\n \n \n         [[[0.0992, 0.1007, 0.1037,  ..., 0.2691, 0.3001, 0.3156],\n           [0.0997, 0.1004, 0.1018,  ..., 0.2719, 0.3026, 0.3180],\n           [0.1008, 0.0999, 0.0981,  ..., 0.2776, 0.3077, 0.3228],\n           ...,\n           [0.0959, 0.0992, 0.1058,  ..., 0.2863, 0.2892, 0.2906],\n           [0.0965, 0.0998, 0.1066,  ..., 0.2973, 0.3002, 0.3016],\n           [0.0967, 0.1001, 0.1070,  ..., 0.3028, 0.3057, 0.3071]],\n \n          [[0.1860, 0.1829, 0.1766,  ..., 0.2266, 0.2463, 0.2562],\n           [0.1865, 0.1826, 0.1747,  ..., 0.2315, 0.2509, 0.2607],\n           [0.1876, 0.1820, 0.1710,  ..., 0.2412, 0.2602, 0.2696],\n           ...,\n           [0.1738, 0.1722, 0.1690,  ..., 0.2679, 0.2689, 0.2694],\n           [0.1745, 0.1726, 0.1690,  ..., 0.2762, 0.2765, 0.2766],\n           [0.1748, 0.1729, 0.1690,  ..., 0.2804, 0.2803, 0.2802]],\n \n          [[0.0202, 0.0227, 0.0279,  ..., 0.1248, 0.1361, 0.1418],\n           [0.0199, 0.0221, 0.0263,  ..., 0.1282, 0.1390, 0.1445],\n           [0.0194, 0.0207, 0.0233,  ..., 0.1350, 0.1448, 0.1497],\n           ...,\n           [0.0310, 0.0341, 0.0402,  ..., 0.1195, 0.1126, 0.1092],\n           [0.0350, 0.0381, 0.0443,  ..., 0.1200, 0.1137, 0.1106],\n           [0.0370, 0.0401, 0.0464,  ..., 0.1202, 0.1143, 0.1114]]],\n \n \n         ...,\n \n \n         [[[0.2028, 0.2066, 0.2140,  ..., 0.2148, 0.2178, 0.2194],\n           [0.2048, 0.2082, 0.2150,  ..., 0.2045, 0.2092, 0.2115],\n           [0.2088, 0.2115, 0.2169,  ..., 0.1841, 0.1919, 0.1959],\n           ...,\n           [0.1832, 0.1831, 0.1830,  ..., 0.1669, 0.1755, 0.1798],\n           [0.1821, 0.1814, 0.1799,  ..., 0.1651, 0.1717, 0.1750],\n           [0.1815, 0.1805, 0.1784,  ..., 0.1642, 0.1698, 0.1725]],\n \n          [[0.1823, 0.1849, 0.1901,  ..., 0.2840, 0.2960, 0.3020],\n           [0.1852, 0.1876, 0.1924,  ..., 0.2743, 0.2865, 0.2926],\n           [0.1911, 0.1930, 0.1968,  ..., 0.2549, 0.2676, 0.2739],\n           ...,\n           [0.1962, 0.1959, 0.1952,  ..., 0.2164, 0.2284, 0.2344],\n           [0.1950, 0.1940, 0.1920,  ..., 0.2140, 0.2233, 0.2279],\n           [0.1944, 0.1931, 0.1905,  ..., 0.2128, 0.2207, 0.2246]],\n \n          [[0.1392, 0.1394, 0.1399,  ..., 0.1563, 0.1566, 0.1567],\n           [0.1417, 0.1416, 0.1414,  ..., 0.1490, 0.1503, 0.1509],\n           [0.1468, 0.1460, 0.1444,  ..., 0.1345, 0.1377, 0.1393],\n           ...,\n           [0.1294, 0.1291, 0.1284,  ..., 0.1158, 0.1242, 0.1284],\n           [0.1283, 0.1273, 0.1253,  ..., 0.1141, 0.1206, 0.1239],\n           [0.1278, 0.1264, 0.1238,  ..., 0.1132, 0.1188, 0.1216]]],\n \n \n         [[[0.1734, 0.1728, 0.1716,  ..., 0.2369, 0.2390, 0.2401],\n           [0.1739, 0.1736, 0.1731,  ..., 0.2383, 0.2392, 0.2396],\n           [0.1749, 0.1753, 0.1760,  ..., 0.2412, 0.2395, 0.2387],\n           ...,\n           [0.1958, 0.1868, 0.1688,  ..., 0.2168, 0.2122, 0.2098],\n           [0.1999, 0.1890, 0.1672,  ..., 0.2063, 0.2010, 0.1984],\n           [0.2020, 0.1901, 0.1664,  ..., 0.2010, 0.1955, 0.1927]],\n \n          [[0.2888, 0.2886, 0.2882,  ..., 0.3567, 0.3588, 0.3598],\n           [0.2914, 0.2911, 0.2906,  ..., 0.3586, 0.3594, 0.3597],\n           [0.2965, 0.2961, 0.2955,  ..., 0.3623, 0.3605, 0.3596],\n           ...,\n           [0.3068, 0.2994, 0.2847,  ..., 0.3373, 0.3326, 0.3302],\n           [0.3090, 0.3000, 0.2821,  ..., 0.3249, 0.3196, 0.3170],\n           [0.3101, 0.3003, 0.2808,  ..., 0.3187, 0.3131, 0.3104]],\n \n          [[0.0902, 0.0900, 0.0898,  ..., 0.1427, 0.1457, 0.1472],\n           [0.0916, 0.0918, 0.0920,  ..., 0.1427, 0.1446, 0.1455],\n           [0.0946, 0.0952, 0.0963,  ..., 0.1428, 0.1424, 0.1421],\n           ...,\n           [0.1246, 0.1114, 0.0851,  ..., 0.1243, 0.1217, 0.1204],\n           [0.1267, 0.1124, 0.0836,  ..., 0.1160, 0.1126, 0.1109],\n           [0.1278, 0.1128, 0.0828,  ..., 0.1118, 0.1080, 0.1062]]],\n \n \n         [[[0.2342, 0.2301, 0.2218,  ..., 0.2200, 0.2125, 0.2088],\n           [0.2327, 0.2287, 0.2207,  ..., 0.2241, 0.2182, 0.2153],\n           [0.2297, 0.2261, 0.2187,  ..., 0.2321, 0.2296, 0.2283],\n           ...,\n           [0.2187, 0.2181, 0.2167,  ..., 0.2515, 0.2609, 0.2655],\n           [0.2249, 0.2256, 0.2271,  ..., 0.2403, 0.2506, 0.2558],\n           [0.2280, 0.2294, 0.2324,  ..., 0.2346, 0.2455, 0.2510]],\n \n          [[0.3492, 0.3449, 0.3362,  ..., 0.3322, 0.3254, 0.3220],\n           [0.3484, 0.3443, 0.3360,  ..., 0.3357, 0.3303, 0.3276],\n           [0.3467, 0.3430, 0.3356,  ..., 0.3428, 0.3403, 0.3390],\n           ...,\n           [0.3364, 0.3357, 0.3343,  ..., 0.3703, 0.3813, 0.3869],\n           [0.3425, 0.3433, 0.3448,  ..., 0.3589, 0.3712, 0.3773],\n           [0.3456, 0.3471, 0.3500,  ..., 0.3533, 0.3661, 0.3725]],\n \n          [[0.1409, 0.1365, 0.1278,  ..., 0.1280, 0.1214, 0.1180],\n           [0.1392, 0.1350, 0.1268,  ..., 0.1321, 0.1269, 0.1243],\n           [0.1358, 0.1321, 0.1247,  ..., 0.1403, 0.1380, 0.1369],\n           ...,\n           [0.1247, 0.1240, 0.1226,  ..., 0.1514, 0.1591, 0.1629],\n           [0.1308, 0.1315, 0.1330,  ..., 0.1367, 0.1463, 0.1510],\n           [0.1339, 0.1353, 0.1383,  ..., 0.1293, 0.1398, 0.1451]]]]),\n tensor([[6.6757e-06, 6.6757e-06, 8.0000e+00, 8.0000e+00],\n         [6.6757e-06, 1.6000e+01, 8.0000e+00, 2.4000e+01],\n         [6.6757e-06, 3.2000e+01, 8.0000e+00, 4.0000e+01],\n         ...,\n         [2.1600e+02, 1.8400e+02, 2.2400e+02, 1.9200e+02],\n         [2.1600e+02, 2.0000e+02, 2.2400e+02, 2.0800e+02],\n         [2.1600e+02, 2.1600e+02, 2.2400e+02, 2.2400e+02]]))"
     },
     "execution_count": 307,
     "metadata": {},
     "output_type": "execute_result"
    }
   ],
   "source": [
    "divide_patches_in_four(patches, coords)"
   ],
   "metadata": {
    "collapsed": false
   }
  },
  {
   "cell_type": "code",
   "execution_count": null,
   "outputs": [],
   "source": [],
   "metadata": {
    "collapsed": false
   }
  }
 ],
 "metadata": {
  "kernelspec": {
   "display_name": "Python 3",
   "language": "python",
   "name": "python3"
  },
  "language_info": {
   "codemirror_mode": {
    "name": "ipython",
    "version": 2
   },
   "file_extension": ".py",
   "mimetype": "text/x-python",
   "name": "python",
   "nbconvert_exporter": "python",
   "pygments_lexer": "ipython2",
   "version": "2.7.6"
  }
 },
 "nbformat": 4,
 "nbformat_minor": 0
}
